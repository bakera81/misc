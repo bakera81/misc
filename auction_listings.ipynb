{
 "cells": [
  {
   "cell_type": "code",
   "execution_count": 1,
   "id": "2500faa2-f2ad-4168-a498-effeed7c93a1",
   "metadata": {
    "tags": []
   },
   "outputs": [],
   "source": [
    "import requests\n",
    "import re\n",
    "from bs4 import BeautifulSoup\n",
    "from mechanize import Browser\n",
    "import pandas as pd\n",
    "from siuba import *\n",
    "import usaddress\n",
    "from datetime import datetime"
   ]
  },
  {
   "cell_type": "markdown",
   "id": "ef4ead9c-a5c0-4ddf-aeb8-f88e3a28e5d9",
   "metadata": {},
   "source": [
    "# Scrape public notices"
   ]
  },
  {
   "cell_type": "code",
   "execution_count": 2,
   "id": "d5f08347-0810-4f6b-8554-f2d6debb891a",
   "metadata": {
    "tags": []
   },
   "outputs": [
    {
     "data": {
      "text/plain": [
       "<response_seek_wrapper at 0x11814ef50 whose wrapped object = <closeable_response at 0x117d80610 whose fp = <_io.BufferedReader name=70>>>"
      ]
     },
     "execution_count": 2,
     "metadata": {},
     "output_type": "execute_result"
    }
   ],
   "source": [
    "url = \"http://ny.mypublicnotices.com/PublicNotice.asp\"\n",
    "\n",
    "# Create a Browser instance to interact with the webpage\n",
    "br = Browser()\n",
    "br.set_handle_robots(False)  # Ignore robots.txt\n",
    "br.open(url)"
   ]
  },
  {
   "cell_type": "code",
   "execution_count": 3,
   "id": "9ad6e7d6-4cf5-4cb2-9ef0-5563779ff165",
   "metadata": {
    "tags": []
   },
   "outputs": [],
   "source": [
    "# Find the form on the page\n",
    "br.select_form(nr=1)\n",
    "# for f in br.forms():\n",
    "#     print(f)"
   ]
  },
  {
   "cell_type": "code",
   "execution_count": 4,
   "id": "984426b9-a847-473a-8462-b07db8ea759b",
   "metadata": {
    "tags": []
   },
   "outputs": [],
   "source": [
    "# Set the Date Range input to \"Last 7 days\"\n",
    "br.form[\"DateRange\"] = [\"Last7\"]\n",
    "# Set the Category input to \"Auction and Sale\"\n",
    "br.form[\"Category\"] = [\"1\"]\n",
    "# Submit the form\n",
    "response = br.submit()"
   ]
  },
  {
   "cell_type": "code",
   "execution_count": 5,
   "id": "7c126d6c-1361-4c62-96c3-bc28025f4b43",
   "metadata": {
    "tags": []
   },
   "outputs": [],
   "source": [
    "# Find the form to change to full notices on the resulting page\n",
    "br.select_form(nr=3)\n",
    "\n",
    "# Set the input to 100 complete notices\n",
    "br[\"FullTextType\"] = [\"0\"]\n",
    "br[\"Count\"] = [\"100\"]\n",
    "response = br.submit()"
   ]
  },
  {
   "cell_type": "code",
   "execution_count": 6,
   "id": "e37ff0a4-034e-4943-a589-2643088aa42c",
   "metadata": {
    "tags": []
   },
   "outputs": [],
   "source": [
    "# Parse the resulting page using BeautifulSoup\n",
    "soup = BeautifulSoup(response.read(), \"html.parser\")"
   ]
  },
  {
   "cell_type": "code",
   "execution_count": 43,
   "id": "daa8c8e3-bae6-420d-86b8-3436a5fb167c",
   "metadata": {
    "tags": []
   },
   "outputs": [],
   "source": [
    "table = soup.select(\"table.BorderedTable\")[1]\n",
    "all_rows = []\n",
    "for i, child in enumerate(table.children):\n",
    "    # Skip first rows\n",
    "    # if i > 2: \n",
    "    first_anchor = child.find(\"a\")\n",
    "    if first_anchor and first_anchor != -1:\n",
    "        # url = f\"http://ny.mypublicnotices.com/{first_anchor[\"href\"]}\n",
    "        href = first_anchor[\"href\"]\n",
    "        all_rows.append({\n",
    "            \"text\": child.get_text(),\n",
    "            \"url\": f\"http://ny.mypublicnotices.com{href}\"\n",
    "        })\n",
    "# all_rows = [child.get_text() for child in table.children]\n",
    "# table.select(\"tr\")[2].find(\"a\")['href']\n",
    "raw_text_df = pd.DataFrame(all_rows)"
   ]
  },
  {
   "cell_type": "code",
   "execution_count": 45,
   "id": "6c9d3f10-0f7f-467d-8b25-58c4c8698e4f",
   "metadata": {
    "tags": []
   },
   "outputs": [],
   "source": [
    "# Parse addresses\n",
    "\n",
    "# text = df['text'].iloc[1]\n",
    "\n",
    "def clean_address_tuple(t):\n",
    "    address = t[0].replace('Plaintiff', '')\n",
    "    address = address.replace('Dated', '')\n",
    "    return (address, t[1])\n",
    "\n",
    "\n",
    "def parse_addresses(text):\n",
    "    allowed_types = [\n",
    "        'AddressNumber', 'StreetName', 'StreetNamePostType', 'PlaceName', 'StateName', 'ZipCode'\n",
    "    ]\n",
    "    parsed = [clean_address_tuple(field) for field in usaddress.parse(text) if field[1] in allowed_types]\n",
    "    address_start_indices = []\n",
    "    for i, field in enumerate(parsed): \n",
    "        if field[1] == 'AddressNumber':\n",
    "            address_start_indices.append(i)\n",
    "            \n",
    "    addresses = []\n",
    "\n",
    "    for i, j in enumerate(address_start_indices):\n",
    "        if i == len(address_start_indices) - 1:\n",
    "            address_list = parsed[j:]\n",
    "        else:        \n",
    "            address_list = parsed[j:address_start_indices[i+1]]\n",
    "        address = ' '.join([a[0] for a in address_list])\n",
    "        addresses.append(address)\n",
    "\n",
    "    return addresses\n",
    "\n",
    "# TODO: Filter out all the known courthouse addresses (count the addresses once theyre parsed)\n",
    "# TODO: Strip symbols from the end of addresses\n",
    "# TODO: Parse the date(s)\n",
    "\n"
   ]
  },
  {
   "cell_type": "code",
   "execution_count": 47,
   "id": "4b2d7f12-2f1f-4396-9eab-5954000f5b0e",
   "metadata": {
    "tags": []
   },
   "outputs": [],
   "source": [
    "# County <> Newspaper mapping\n",
    "county_dict = [\n",
    "    {\n",
    "        'county': 'Orange',\n",
    "        'newspaper': 'Cornwall Local, The'\n",
    "    },\n",
    "    {\n",
    "        'county': 'Orange',\n",
    "        'newspaper': 'Mid Hudson Times'\n",
    "    },\n",
    "    {\n",
    "        'county': 'Orange',\n",
    "        'newspaper': 'News of the Highlands'\n",
    "    },\n",
    "    {\n",
    "        'county': 'Orange',\n",
    "        'newspaper': 'Southern Ulster Times'\n",
    "    },\n",
    "    {\n",
    "        'county': 'Ulster',\n",
    "        'newspaper': 'Daily Freeman'\n",
    "    },\n",
    "    # Note: Greene county has no newspapers listed on MyPublicNotices...\n",
    "    {\n",
    "        'county': 'Greene',\n",
    "        'newspaper': 'Catskill Daily Mail'\n",
    "    },\n",
    "    {\n",
    "        'county': 'Greene',\n",
    "        'newspaper': 'Greene County Daily World'\n",
    "    },\n",
    "    {\n",
    "        'county': 'Greene',\n",
    "        'newspaper': 'The Register Star'\n",
    "    },\n",
    "    {\n",
    "        'county': 'Greene',\n",
    "        'newspaper': 'Register Star, The'\n",
    "    },\n",
    "    {\n",
    "        'county': 'Greene',\n",
    "        'newspaper': 'Windham Journal'\n",
    "    },\n",
    "    {\n",
    "        'county': 'Greene',\n",
    "        'newspaper': 'Greene County Record'\n",
    "    },\n",
    "    {\n",
    "        'county': 'Unknown',\n",
    "        'newspaper': 'Newsday'\n",
    "    }\n",
    "]\n",
    "\n",
    "counties = pd.DataFrame(county_dict)"
   ]
  },
  {
   "cell_type": "code",
   "execution_count": 50,
   "id": "bef35354-1f32-4627-a536-e82bb24c4bbb",
   "metadata": {
    "tags": []
   },
   "outputs": [],
   "source": [
    "df1 = (\n",
    "    raw_text_df\n",
    "    >> filter(\n",
    "        # _.text != '\\n', \n",
    "        # ~_.text.str.contains('Select notice to print'),\n",
    "        ~_.text.str.contains('vehicle', case=False),\n",
    "        ~_.text.str.contains('storage', case=False),\n",
    "        _.text.str.contains('premise', case=False)\n",
    "    )\n",
    "    >> mutate(\n",
    "        addresses=_.text.apply(parse_addresses),\n",
    "        newspaper=_.text.str.extract('Appeared in: (.+) on'),\n",
    "        dates_raw=_.text.str.extract('Appeared in: .+ on (.+)')\n",
    "    )     \n",
    ").reset_index()"
   ]
  },
  {
   "cell_type": "code",
   "execution_count": 54,
   "id": "2da4d4fd-9486-4d7f-9cee-5b37cc692890",
   "metadata": {
    "tags": []
   },
   "outputs": [
    {
     "data": {
      "text/html": [
       "<div>\n",
       "<style scoped>\n",
       "    .dataframe tbody tr th:only-of-type {\n",
       "        vertical-align: middle;\n",
       "    }\n",
       "\n",
       "    .dataframe tbody tr th {\n",
       "        vertical-align: top;\n",
       "    }\n",
       "\n",
       "    .dataframe thead th {\n",
       "        text-align: right;\n",
       "    }\n",
       "</style>\n",
       "<table border=\"1\" class=\"dataframe\">\n",
       "  <thead>\n",
       "    <tr style=\"text-align: right;\">\n",
       "      <th></th>\n",
       "      <th>text</th>\n",
       "      <th>url</th>\n",
       "      <th>addresses</th>\n",
       "      <th>newspaper</th>\n",
       "      <th>dates_raw</th>\n",
       "      <th>address_index</th>\n",
       "      <th>address</th>\n",
       "      <th>county</th>\n",
       "    </tr>\n",
       "  </thead>\n",
       "  <tbody>\n",
       "    <tr>\n",
       "      <th>65</th>\n",
       "      <td>\\n\\n\\n\\n\\nLEGAL NOITCE SUPREME COURT OF THE ST...</td>\n",
       "      <td>http://ny.mypublicnotices.com/Link.asp?ID=AD05...</td>\n",
       "      <td>[285 Wall Street, Kingston, New York 12401,, 4...</td>\n",
       "      <td>Daily Freeman</td>\n",
       "      <td>04/16/2023, 04/23/2023 and 04/30/2023</td>\n",
       "      <td>1</td>\n",
       "      <td>46 Butterville Road, NewPaltz, New York 12561.</td>\n",
       "      <td>Ulster</td>\n",
       "    </tr>\n",
       "    <tr>\n",
       "      <th>58</th>\n",
       "      <td>\\n\\n\\n\\n\\nLEGAL NOTICE NOTICE OF SALE SUPREME ...</td>\n",
       "      <td>http://ny.mypublicnotices.com/Link.asp?ID=AD05...</td>\n",
       "      <td>[285 Wall Street, Kingston NY 12401, 18 Villag...</td>\n",
       "      <td>Daily Freeman</td>\n",
       "      <td>04/25/2023 and 05/02/2023</td>\n",
       "      <td>1</td>\n",
       "      <td>18 Village Drive, Saugerties, NY 12477.</td>\n",
       "      <td>Ulster</td>\n",
       "    </tr>\n",
       "    <tr>\n",
       "      <th>91</th>\n",
       "      <td>\\n\\n\\n\\n\\nLEGAL NOTICE NOTICE OF SALE SUPREME ...</td>\n",
       "      <td>http://ny.mypublicnotices.com/Link.asp?ID=AD05...</td>\n",
       "      <td>[285 Wall Street, Kingston NY 12401, 18 Villag...</td>\n",
       "      <td>Daily Freeman</td>\n",
       "      <td>04/25/2023 and 05/02/2023</td>\n",
       "      <td>2</td>\n",
       "      <td>1775 Wehrle Drive Williamsville, NY 14221</td>\n",
       "      <td>Ulster</td>\n",
       "    </tr>\n",
       "    <tr>\n",
       "      <th>50</th>\n",
       "      <td>\\n\\n\\n\\n\\nLEGAL NOTICE NOTICE OF SALE SUPREME ...</td>\n",
       "      <td>http://ny.mypublicnotices.com/Link.asp?ID=AD05...</td>\n",
       "      <td>[285 Wall Street, Kingston NY 12401, 675 Platt...</td>\n",
       "      <td>Daily Freeman</td>\n",
       "      <td>04/12/2023, 04/19/2023, 04/26/2023 and 05/03/2023</td>\n",
       "      <td>1</td>\n",
       "      <td>675 Plattekill Ardonia Road, Plattekill, NY 12...</td>\n",
       "      <td>Ulster</td>\n",
       "    </tr>\n",
       "    <tr>\n",
       "      <th>83</th>\n",
       "      <td>\\n\\n\\n\\n\\nLEGAL NOTICE NOTICE OF SALE SUPREME ...</td>\n",
       "      <td>http://ny.mypublicnotices.com/Link.asp?ID=AD05...</td>\n",
       "      <td>[285 Wall Street, Kingston NY 12401, 675 Platt...</td>\n",
       "      <td>Daily Freeman</td>\n",
       "      <td>04/12/2023, 04/19/2023, 04/26/2023 and 05/03/2023</td>\n",
       "      <td>2</td>\n",
       "      <td>53 Gibson Street Bay Shore, NY 11706</td>\n",
       "      <td>Ulster</td>\n",
       "    </tr>\n",
       "  </tbody>\n",
       "</table>\n",
       "</div>"
      ],
      "text/plain": [
       "                                                 text   \n",
       "65  \\n\\n\\n\\n\\nLEGAL NOITCE SUPREME COURT OF THE ST...  \\\n",
       "58  \\n\\n\\n\\n\\nLEGAL NOTICE NOTICE OF SALE SUPREME ...   \n",
       "91  \\n\\n\\n\\n\\nLEGAL NOTICE NOTICE OF SALE SUPREME ...   \n",
       "50  \\n\\n\\n\\n\\nLEGAL NOTICE NOTICE OF SALE SUPREME ...   \n",
       "83  \\n\\n\\n\\n\\nLEGAL NOTICE NOTICE OF SALE SUPREME ...   \n",
       "\n",
       "                                                  url   \n",
       "65  http://ny.mypublicnotices.com/Link.asp?ID=AD05...  \\\n",
       "58  http://ny.mypublicnotices.com/Link.asp?ID=AD05...   \n",
       "91  http://ny.mypublicnotices.com/Link.asp?ID=AD05...   \n",
       "50  http://ny.mypublicnotices.com/Link.asp?ID=AD05...   \n",
       "83  http://ny.mypublicnotices.com/Link.asp?ID=AD05...   \n",
       "\n",
       "                                            addresses      newspaper   \n",
       "65  [285 Wall Street, Kingston, New York 12401,, 4...  Daily Freeman  \\\n",
       "58  [285 Wall Street, Kingston NY 12401, 18 Villag...  Daily Freeman   \n",
       "91  [285 Wall Street, Kingston NY 12401, 18 Villag...  Daily Freeman   \n",
       "50  [285 Wall Street, Kingston NY 12401, 675 Platt...  Daily Freeman   \n",
       "83  [285 Wall Street, Kingston NY 12401, 675 Platt...  Daily Freeman   \n",
       "\n",
       "                                            dates_raw address_index   \n",
       "65              04/16/2023, 04/23/2023 and 04/30/2023             1  \\\n",
       "58                          04/25/2023 and 05/02/2023             1   \n",
       "91                          04/25/2023 and 05/02/2023             2   \n",
       "50  04/12/2023, 04/19/2023, 04/26/2023 and 05/03/2023             1   \n",
       "83  04/12/2023, 04/19/2023, 04/26/2023 and 05/03/2023             2   \n",
       "\n",
       "                                              address  county  \n",
       "65     46 Butterville Road, NewPaltz, New York 12561.  Ulster  \n",
       "58            18 Village Drive, Saugerties, NY 12477.  Ulster  \n",
       "91          1775 Wehrle Drive Williamsville, NY 14221  Ulster  \n",
       "50  675 Plattekill Ardonia Road, Plattekill, NY 12...  Ulster  \n",
       "83               53 Gibson Street Bay Shore, NY 11706  Ulster  "
      ]
     },
     "execution_count": 54,
     "metadata": {},
     "output_type": "execute_result"
    }
   ],
   "source": [
    "addresses_only_df = pd.DataFrame(df1['addresses'].to_list())\n",
    "# addresses_only_df\n",
    "addresses_df = (\n",
    "    pd.concat([df1, addresses_only_df], axis=1) \n",
    "    >> select(-_.index)\n",
    "    >> gather('address_index', 'address', -_.text, -_.addresses, -_.newspaper, -_.url, -_.dates_raw)\n",
    "    >> filter(_.address.notna())\n",
    "    >> mutate(address=_.address.str.replace('\\n', ''))\n",
    "    >> left_join(_, counties, on=\"newspaper\")\n",
    "    >> filter(\n",
    "        # Addresses must contain more than 3 letters\n",
    "        _.address.str.contains('[a-zA-Z]{3,}'),\n",
    "        # Remove courthouses\n",
    "        (~_.address.str.contains('285 Wall Street') & ~_.address.str.contains('Kingston')),\n",
    "        (~_.address.str.contains('138 Court Street') & ~_.address.str.contains('Wampsville')),\n",
    "        # Only look in certain counties\n",
    "        # (_.county == 'Ulster' | _.county == 'Orange' | _.county == 'Greene')\n",
    "        _.county.notna()\n",
    "    )\n",
    "    >> arrange(_.text)\n",
    ")\n",
    "# addresses_only_df\n",
    "addresses_df.head() "
   ]
  },
  {
   "cell_type": "code",
   "execution_count": 47,
   "id": "187b3482-850b-4efb-a526-f137eb89113b",
   "metadata": {
    "tags": []
   },
   "outputs": [],
   "source": [
    "filename = \"~/Desktop/{}_auction_listings_search.csv\".format(datetime.today().strftime('%Y-%m-%d'))\n",
    "addresses_df.to_csv(filename)"
   ]
  }
 ],
 "metadata": {
  "kernelspec": {
   "display_name": "Python 3 (ipykernel)",
   "language": "python",
   "name": "python3"
  },
  "language_info": {
   "codemirror_mode": {
    "name": "ipython",
    "version": 3
   },
   "file_extension": ".py",
   "mimetype": "text/x-python",
   "name": "python",
   "nbconvert_exporter": "python",
   "pygments_lexer": "ipython3",
   "version": "3.11.3"
  }
 },
 "nbformat": 4,
 "nbformat_minor": 5
}
